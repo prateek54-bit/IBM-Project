{
 "cells": [
  {
   "cell_type": "markdown",
   "id": "dc9cb097",
   "metadata": {},
   "source": [
    "# My Jupyter Notebook on IBM Watson Studio"
   ]
  },
  {
   "cell_type": "markdown",
   "id": "bee72e07",
   "metadata": {},
   "source": [
    "**Prateek Grover**"
   ]
  },
  {
   "cell_type": "markdown",
   "id": "df4861d1",
   "metadata": {},
   "source": [
    "**Student**"
   ]
  },
  {
   "cell_type": "markdown",
   "id": "039ce2bc",
   "metadata": {},
   "source": [
    "*I am interested in data science because i love to play with data and when i am stuck with date then i found more fun and more interest*"
   ]
  },
  {
   "cell_type": "markdown",
   "id": "5db5fc31",
   "metadata": {},
   "source": [
    "### The below code should print 'Alone'"
   ]
  },
  {
   "cell_type": "code",
   "execution_count": 3,
   "id": "74ed1cd1",
   "metadata": {},
   "outputs": [
    {
     "name": "stdout",
     "output_type": "stream",
     "text": [
      "Alone\n"
     ]
    }
   ],
   "source": [
    "print('Alone')"
   ]
  },
  {
   "cell_type": "markdown",
   "id": "4e6a5684",
   "metadata": {},
   "source": [
    "### Bulleting"
   ]
  },
  {
   "cell_type": "markdown",
   "id": "b8b93f6b",
   "metadata": {},
   "source": [
    "#### 1 Names"
   ]
  },
  {
   "cell_type": "markdown",
   "id": "12e212eb",
   "metadata": {},
   "source": [
    "* Prateek\n",
    "* Rahul\n",
    "* Simran\n",
    "* Keshav\n",
    "* Vinay"
   ]
  },
  {
   "cell_type": "markdown",
   "id": "ba054f7c",
   "metadata": {},
   "source": [
    "#### 2 Numbered List"
   ]
  },
  {
   "cell_type": "markdown",
   "id": "c880477a",
   "metadata": {},
   "source": [
    "1. Line number one\n",
    "2. Line number two\n",
    "3. Line number three \n",
    "4. Line number four \n",
    "5. Line number five\n",
    "\n",
    "    A. Sub line Number one\n",
    "    \n",
    "    B. Sub line Number two\n",
    "    "
   ]
  },
  {
   "cell_type": "markdown",
   "id": "031a223a",
   "metadata": {},
   "source": [
    "#### 3 Colors"
   ]
  },
  {
   "cell_type": "markdown",
   "id": "c7ec6f81",
   "metadata": {},
   "source": [
    "<font color=blue> Font color is blue </font>\n",
    "\n",
    "<font color=red> Font color is red </font>\n",
    "\n",
    "<font color=purple> Font color is purple </font>"
   ]
  },
  {
   "cell_type": "code",
   "execution_count": null,
   "id": "715ac3a8",
   "metadata": {},
   "outputs": [],
   "source": []
  }
 ],
 "metadata": {
  "kernelspec": {
   "display_name": "Python 3 (ipykernel)",
   "language": "python",
   "name": "python3"
  },
  "language_info": {
   "codemirror_mode": {
    "name": "ipython",
    "version": 3
   },
   "file_extension": ".py",
   "mimetype": "text/x-python",
   "name": "python",
   "nbconvert_exporter": "python",
   "pygments_lexer": "ipython3",
   "version": "3.10.0"
  }
 },
 "nbformat": 4,
 "nbformat_minor": 5
}
